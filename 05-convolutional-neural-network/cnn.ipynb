{
 "cells": [
  {
   "cell_type": "markdown",
   "metadata": {},
   "source": [
    "# Convolutional Neural Network"
   ]
  },
  {
   "cell_type": "markdown",
   "metadata": {},
   "source": [
    "### Importing libraries"
   ]
  },
  {
   "cell_type": "code",
   "execution_count": 44,
   "metadata": {},
   "outputs": [],
   "source": [
    "import tensorflow as tf\n",
    "from keras.preprocessing.image import ImageDataGenerator"
   ]
  },
  {
   "cell_type": "markdown",
   "metadata": {},
   "source": [
    "## Part 1 - Data Preprocessing"
   ]
  },
  {
   "cell_type": "markdown",
   "metadata": {},
   "source": [
    "### Generating images for the Training set\n",
    "Image Augmentation - Enrich the dataset without adding more external images to prevent over fitting"
   ]
  },
  {
   "cell_type": "code",
   "execution_count": 45,
   "metadata": {},
   "outputs": [],
   "source": [
    "train_datagen = ImageDataGenerator(\n",
    "    rescale = 1./255,\n",
    "    shear_range = 0.2,\n",
    "    zoom_range = 0.2,\n",
    "    horizontal_flip = True\n",
    ")"
   ]
  },
  {
   "cell_type": "markdown",
   "metadata": {
    "colab_type": "text",
    "id": "LXXei7qHornJ"
   },
   "source": [
    "### Generating images for the Test set"
   ]
  },
  {
   "cell_type": "code",
   "execution_count": 46,
   "metadata": {
    "colab": {},
    "colab_type": "code",
    "id": "T9It49laowGX"
   },
   "outputs": [],
   "source": [
    "test_datagen = ImageDataGenerator(rescale = 1./255)"
   ]
  },
  {
   "cell_type": "markdown",
   "metadata": {
    "colab_type": "text",
    "id": "MvE-heJNo3GG"
   },
   "source": [
    "### Creating the Training set"
   ]
  },
  {
   "cell_type": "code",
   "execution_count": 47,
   "metadata": {
    "colab": {
     "base_uri": "https://localhost:8080/",
     "height": 34
    },
    "colab_type": "code",
    "executionInfo": {
     "elapsed": 2544,
     "status": "ok",
     "timestamp": 1586435320043,
     "user": {
      "displayName": "Hadelin de Ponteves",
      "photoUrl": "https://lh3.googleusercontent.com/a-/AOh14GhEuXdT7eQweUmRPW8_laJuPggSK6hfvpl5a6WBaA=s64",
      "userId": "15047218817161520419"
     },
     "user_tz": -240
    },
    "id": "0koUcJMJpEBD",
    "outputId": "9d177ed1-04eb-4b72-a6f6-d9da3528fb20"
   },
   "outputs": [
    {
     "name": "stdout",
     "output_type": "stream",
     "text": [
      "Found 8000 images belonging to 2 classes.\n"
     ]
    }
   ],
   "source": [
    "training_set = train_datagen.flow_from_directory(\n",
    "    'dataset/training_set',\n",
    "    target_size = (64, 64), # Dimension expected by our CNN \n",
    "    batch_size = 32,\n",
    "    class_mode = 'binary'\n",
    ")"
   ]
  },
  {
   "cell_type": "markdown",
   "metadata": {
    "colab_type": "text",
    "id": "mrCMmGw9pHys"
   },
   "source": [
    "### Creating the Test set"
   ]
  },
  {
   "cell_type": "code",
   "execution_count": 48,
   "metadata": {
    "colab": {
     "base_uri": "https://localhost:8080/",
     "height": 34
    },
    "colab_type": "code",
    "executionInfo": {
     "elapsed": 2543,
     "status": "ok",
     "timestamp": 1586435320044,
     "user": {
      "displayName": "Hadelin de Ponteves",
      "photoUrl": "https://lh3.googleusercontent.com/a-/AOh14GhEuXdT7eQweUmRPW8_laJuPggSK6hfvpl5a6WBaA=s64",
      "userId": "15047218817161520419"
     },
     "user_tz": -240
    },
    "id": "SH4WzfOhpKc3",
    "outputId": "ea549ecd-e7b7-408c-df58-cbbf77fb58db"
   },
   "outputs": [
    {
     "name": "stdout",
     "output_type": "stream",
     "text": [
      "Found 2000 images belonging to 2 classes.\n"
     ]
    }
   ],
   "source": [
    "test_set = test_datagen.flow_from_directory(\n",
    "    'dataset/test_set',\n",
    "    target_size = (64, 64),\n",
    "    batch_size = 32,\n",
    "    class_mode = 'binary'\n",
    ")"
   ]
  },
  {
   "cell_type": "markdown",
   "metadata": {},
   "source": [
    "## Part 2 - Building the CNN"
   ]
  },
  {
   "cell_type": "markdown",
   "metadata": {},
   "source": [
    "### Initialize the CNN"
   ]
  },
  {
   "cell_type": "code",
   "execution_count": 49,
   "metadata": {},
   "outputs": [],
   "source": [
    "cnn = tf.keras.models.Sequential()"
   ]
  },
  {
   "cell_type": "markdown",
   "metadata": {},
   "source": [
    "### Step 1 - Convolution"
   ]
  },
  {
   "cell_type": "code",
   "execution_count": 50,
   "metadata": {},
   "outputs": [],
   "source": [
    "cnn.add(\n",
    "    tf.keras.layers.Conv2D(\n",
    "        filters=32, \n",
    "        kernel_size=(3, 3),\n",
    "        input_shape=[64, 64, 3],\n",
    "        activation='relu',\n",
    "        padding='same'\n",
    "    )\n",
    ")"
   ]
  },
  {
   "cell_type": "markdown",
   "metadata": {},
   "source": [
    "### Step 2 - MaxPooling"
   ]
  },
  {
   "cell_type": "code",
   "execution_count": 51,
   "metadata": {},
   "outputs": [],
   "source": [
    "cnn.add(\n",
    "    tf.keras.layers.MaxPooling2D(\n",
    "        pool_size=(2, 2),\n",
    "        strides=2,\n",
    "        padding='valid'\n",
    "    )\n",
    ")"
   ]
  },
  {
   "cell_type": "markdown",
   "metadata": {},
   "source": [
    "### Adding a second convolution layer"
   ]
  },
  {
   "cell_type": "code",
   "execution_count": 52,
   "metadata": {},
   "outputs": [],
   "source": [
    "# convolution - do not need to add input_shape for 2nd, 3rd... layers\n",
    "# increasing the number of filters also increases the accuracy\n",
    "cnn.add(\n",
    "    tf.keras.layers.Conv2D(\n",
    "        filters=32, \n",
    "        kernel_size=(3, 3),\n",
    "        activation='relu',\n",
    "        padding='same'\n",
    "    )\n",
    ")\n",
    "\n",
    "# MaxPooling\n",
    "cnn.add(\n",
    "    tf.keras.layers.MaxPooling2D(\n",
    "        pool_size=(2, 2),\n",
    "        strides=2,\n",
    "        padding='valid'\n",
    "    )\n",
    ")"
   ]
  },
  {
   "cell_type": "markdown",
   "metadata": {},
   "source": [
    "### Step 3 - Flattening"
   ]
  },
  {
   "cell_type": "code",
   "execution_count": 53,
   "metadata": {},
   "outputs": [],
   "source": [
    "cnn.add(\n",
    "    tf.keras.layers.Flatten()\n",
    ")"
   ]
  },
  {
   "cell_type": "markdown",
   "metadata": {},
   "source": [
    "### Step 4 - Full Connection"
   ]
  },
  {
   "cell_type": "code",
   "execution_count": 54,
   "metadata": {},
   "outputs": [],
   "source": [
    "cnn.add(\n",
    "    tf.keras.layers.Dense(units=128, activation='relu')\n",
    ")"
   ]
  },
  {
   "cell_type": "markdown",
   "metadata": {},
   "source": [
    "### Step 5 - Output Layer"
   ]
  },
  {
   "cell_type": "code",
   "execution_count": 55,
   "metadata": {},
   "outputs": [],
   "source": [
    "cnn.add(\n",
    "    tf.keras.layers.Dense(units=1, activation='sigmoid')\n",
    ")"
   ]
  },
  {
   "cell_type": "markdown",
   "metadata": {},
   "source": [
    "## Part 3 - Training the CNN"
   ]
  },
  {
   "cell_type": "markdown",
   "metadata": {},
   "source": [
    "### Compiling the CNN"
   ]
  },
  {
   "cell_type": "code",
   "execution_count": 56,
   "metadata": {},
   "outputs": [],
   "source": [
    "cnn.compile(\n",
    "    optimizer='adam',\n",
    "    loss='binary_crossentropy',\n",
    "    metrics=['accuracy']\n",
    ")"
   ]
  },
  {
   "cell_type": "markdown",
   "metadata": {},
   "source": [
    "### Training the CNN on the training set and evaluate it on the Test set"
   ]
  },
  {
   "cell_type": "code",
   "execution_count": 57,
   "metadata": {},
   "outputs": [
    {
     "name": "stdout",
     "output_type": "stream",
     "text": [
      "Epoch 1/25\n",
      "250/250 [==============================] - 50s 196ms/step - loss: 0.6805 - accuracy: 0.5559 - val_loss: 0.6354 - val_accuracy: 0.6510\n",
      "Epoch 2/25\n",
      "250/250 [==============================] - 48s 193ms/step - loss: 0.6226 - accuracy: 0.6578 - val_loss: 0.5854 - val_accuracy: 0.7025\n",
      "Epoch 3/25\n",
      "250/250 [==============================] - 48s 193ms/step - loss: 0.5717 - accuracy: 0.6965 - val_loss: 0.5400 - val_accuracy: 0.7300\n",
      "Epoch 4/25\n",
      "250/250 [==============================] - 48s 193ms/step - loss: 0.5428 - accuracy: 0.7232 - val_loss: 0.5487 - val_accuracy: 0.7200\n",
      "Epoch 5/25\n",
      "250/250 [==============================] - 48s 194ms/step - loss: 0.5127 - accuracy: 0.7505 - val_loss: 0.5327 - val_accuracy: 0.7335\n",
      "Epoch 6/25\n",
      "250/250 [==============================] - 49s 195ms/step - loss: 0.4953 - accuracy: 0.7616 - val_loss: 0.5181 - val_accuracy: 0.7560\n",
      "Epoch 7/25\n",
      "250/250 [==============================] - 49s 194ms/step - loss: 0.4791 - accuracy: 0.7671 - val_loss: 0.4986 - val_accuracy: 0.7660\n",
      "Epoch 8/25\n",
      "250/250 [==============================] - 49s 194ms/step - loss: 0.4687 - accuracy: 0.7744 - val_loss: 0.5693 - val_accuracy: 0.7305\n",
      "Epoch 9/25\n",
      "250/250 [==============================] - 49s 196ms/step - loss: 0.4493 - accuracy: 0.7855 - val_loss: 0.4878 - val_accuracy: 0.7705\n",
      "Epoch 10/25\n",
      "250/250 [==============================] - 49s 196ms/step - loss: 0.4317 - accuracy: 0.7970 - val_loss: 0.4809 - val_accuracy: 0.7770\n",
      "Epoch 11/25\n",
      "250/250 [==============================] - 49s 197ms/step - loss: 0.4235 - accuracy: 0.7986 - val_loss: 0.4791 - val_accuracy: 0.7895\n",
      "Epoch 12/25\n",
      "250/250 [==============================] - 49s 195ms/step - loss: 0.4041 - accuracy: 0.8207 - val_loss: 0.4867 - val_accuracy: 0.7730\n",
      "Epoch 13/25\n",
      "250/250 [==============================] - 49s 196ms/step - loss: 0.3999 - accuracy: 0.8180 - val_loss: 0.4751 - val_accuracy: 0.7790\n",
      "Epoch 14/25\n",
      "250/250 [==============================] - 49s 195ms/step - loss: 0.3869 - accuracy: 0.8248 - val_loss: 0.4742 - val_accuracy: 0.7860\n",
      "Epoch 15/25\n",
      "250/250 [==============================] - 49s 197ms/step - loss: 0.3645 - accuracy: 0.8360 - val_loss: 0.5288 - val_accuracy: 0.7530\n",
      "Epoch 16/25\n",
      "250/250 [==============================] - 49s 196ms/step - loss: 0.3616 - accuracy: 0.8397 - val_loss: 0.4723 - val_accuracy: 0.7835\n",
      "Epoch 17/25\n",
      "250/250 [==============================] - 50s 199ms/step - loss: 0.3395 - accuracy: 0.8520 - val_loss: 0.4877 - val_accuracy: 0.7860\n",
      "Epoch 18/25\n",
      "250/250 [==============================] - 49s 196ms/step - loss: 0.3350 - accuracy: 0.8534 - val_loss: 0.4768 - val_accuracy: 0.7960\n",
      "Epoch 19/25\n",
      "250/250 [==============================] - 49s 195ms/step - loss: 0.3167 - accuracy: 0.8648 - val_loss: 0.4846 - val_accuracy: 0.7860\n",
      "Epoch 20/25\n",
      "250/250 [==============================] - 42s 169ms/step - loss: 0.3055 - accuracy: 0.8655 - val_loss: 0.4986 - val_accuracy: 0.7910\n",
      "Epoch 21/25\n",
      "250/250 [==============================] - 42s 168ms/step - loss: 0.2902 - accuracy: 0.8777 - val_loss: 0.5314 - val_accuracy: 0.7845\n",
      "Epoch 22/25\n",
      "250/250 [==============================] - 42s 169ms/step - loss: 0.2815 - accuracy: 0.8804 - val_loss: 0.5242 - val_accuracy: 0.7890\n",
      "Epoch 23/25\n",
      "250/250 [==============================] - 42s 170ms/step - loss: 0.2754 - accuracy: 0.8836 - val_loss: 0.5044 - val_accuracy: 0.7815\n",
      "Epoch 24/25\n",
      "250/250 [==============================] - 43s 172ms/step - loss: 0.2656 - accuracy: 0.8914 - val_loss: 0.5428 - val_accuracy: 0.7795\n",
      "Epoch 25/25\n",
      "250/250 [==============================] - 43s 174ms/step - loss: 0.2511 - accuracy: 0.8934 - val_loss: 0.5403 - val_accuracy: 0.7915\n"
     ]
    },
    {
     "data": {
      "text/plain": [
       "<keras.callbacks.History at 0x1b45c2005e0>"
      ]
     },
     "execution_count": 57,
     "metadata": {},
     "output_type": "execute_result"
    }
   ],
   "source": [
    "cnn.fit(\n",
    "    training_set,\n",
    "    epochs=25,\n",
    "    validation_data = test_set,\n",
    ")"
   ]
  }
 ],
 "metadata": {
  "interpreter": {
   "hash": "8fac594bfae6525c0c41b4041d2d72effa188cc8ead05f81b1fab2bb098927fb"
  },
  "kernelspec": {
   "display_name": "Python 3.8.5 ('base')",
   "language": "python",
   "name": "python3"
  },
  "language_info": {
   "codemirror_mode": {
    "name": "ipython",
    "version": 3
   },
   "file_extension": ".py",
   "mimetype": "text/x-python",
   "name": "python",
   "nbconvert_exporter": "python",
   "pygments_lexer": "ipython3",
   "version": "3.8.5"
  },
  "orig_nbformat": 4
 },
 "nbformat": 4,
 "nbformat_minor": 2
}
